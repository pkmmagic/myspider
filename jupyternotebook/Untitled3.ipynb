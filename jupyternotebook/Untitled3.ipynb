{
 "cells": [
  {
   "cell_type": "code",
   "execution_count": 74,
   "metadata": {},
   "outputs": [
    {
     "name": "stdout",
     "output_type": "stream",
     "text": [
      "['PartA time log:\\n', 'Last Date:\\n', 'Time used:\\n', 'Counts:\\n', 'Average:']\n"
     ]
    }
   ],
   "source": [
    "import time\n",
    "\n",
    "def rr(l):\n",
    "    with open('abc.txt', 'r') as f:\n",
    "        l = f.readlines()\n",
    "    return l\n",
    "\n",
    "list1=[]\n",
    "    \n",
    "list1 = rr(list1)\n",
    "\n",
    "print(list1)"
   ]
  },
  {
   "cell_type": "code",
   "execution_count": 77,
   "metadata": {},
   "outputs": [
    {
     "name": "stdout",
     "output_type": "stream",
     "text": [
      "Last Date:Thu Aug  9 10:45:21 2018\n",
      "\n"
     ]
    }
   ],
   "source": [
    "t=time.asctime(time.localtime(time.time()))\n",
    "list1[1]=list1[1].strip('\\n')+t+'\\n'\n",
    "print(list1[1])"
   ]
  },
  {
   "cell_type": "code",
   "execution_count": 75,
   "metadata": {},
   "outputs": [
    {
     "name": "stdout",
     "output_type": "stream",
     "text": [
      "Time used:0.84\n",
      "\n"
     ]
    }
   ],
   "source": [
    "since=time.time()\n",
    "for i in range(4):\n",
    "    time.sleep(0.21)\n",
    "\n",
    "elapse = round((time.time()-since),2)\n",
    "\n",
    "list1[2]=list1[2].strip('\\n')+str(elapse)+'\\n'\n",
    "\n",
    "print(list1[2])"
   ]
  },
  {
   "cell_type": "code",
   "execution_count": null,
   "metadata": {},
   "outputs": [],
   "source": [
    "import re\n",
    "\n",
    "since=time.time()\n",
    "for i in range(3):\n",
    "    time.sleep(0.1)\n",
    "\n",
    "elapse = round((time.time()-since),1)\n",
    "\n"
   ]
  },
  {
   "cell_type": "code",
   "execution_count": 76,
   "metadata": {},
   "outputs": [
    {
     "name": "stdout",
     "output_type": "stream",
     "text": [
      "<_sre.SRE_Match object; span=(10, 17), match='700.311'>\n",
      "700.311\n"
     ]
    }
   ],
   "source": [
    "import re\n",
    "pattern = re.compile('\\d+\\.\\d+')  \n",
    "m = pattern.search('Time used:700.311')\n",
    "\n",
    "print (m)\n",
    "print(m.group())"
   ]
  },
  {
   "cell_type": "code",
   "execution_count": 78,
   "metadata": {},
   "outputs": [],
   "source": [
    "with open('test.txt', 'w') as f:\n",
    "    f.writelines(list1)"
   ]
  },
  {
   "cell_type": "code",
   "execution_count": 5,
   "metadata": {},
   "outputs": [
    {
     "name": "stdout",
     "output_type": "stream",
     "text": [
      "Thu Aug  9 10:00:35 2018\n"
     ]
    }
   ],
   "source": [
    "import time\n",
    "\n",
    "print(time.asctime(time.localtime(time.time())))"
   ]
  },
  {
   "cell_type": "code",
   "execution_count": 22,
   "metadata": {},
   "outputs": [
    {
     "name": "stdout",
     "output_type": "stream",
     "text": [
      "<class 'str'>\n"
     ]
    }
   ],
   "source": [
    "t=time.asctime(time.localtime(time.time()))\n",
    "\n",
    "print(type(t))"
   ]
  },
  {
   "cell_type": "code",
   "execution_count": 15,
   "metadata": {},
   "outputs": [],
   "source": [
    "with open('test.txt', 'w') as f:\n",
    "    f.writelines(list1)"
   ]
  },
  {
   "cell_type": "code",
   "execution_count": 81,
   "metadata": {},
   "outputs": [],
   "source": [
    "import csv\n",
    "list1 = ['Time used: ','1.1','440.20','3.22']\n",
    "csvFile2 = open('csvFile2.csv','w', newline='') # 设置newline，否则两行之间会空一行\n",
    "writer = csv.writer(csvFile2)\n",
    "m = len(list1)\n",
    "for i in range(m):\n",
    "    writer.writerow(list1[i])\n",
    "csvFile2.close()\n"
   ]
  },
  {
   "cell_type": "code",
   "execution_count": 103,
   "metadata": {},
   "outputs": [],
   "source": [
    "def login(l):\n",
    "    csvFile = open('timelog.csv','w', newline='') # 设置newline，否则两行之间会空一行\n",
    "    writer = csv.writer(csvFile)\n",
    "    for sublist in l:\n",
    "        writer.writerow(sublist)\n",
    "    csvFile.close()"
   ]
  },
  {
   "cell_type": "code",
   "execution_count": 100,
   "metadata": {},
   "outputs": [],
   "source": [
    "def readlog(l):\n",
    "    csvFile = open(\"timelog.csv\", \"r\")\n",
    "    reader = csv.reader(csvFile)  # 返回的是迭代类型\n",
    "    for item in reader:\n",
    "        l.append(item)\n",
    "    csvFile.close()"
   ]
  },
  {
   "cell_type": "code",
   "execution_count": 95,
   "metadata": {},
   "outputs": [],
   "source": [
    "li = [['Time', 'Date'], ['1', '2'], ['44', '23'],['4','1111']]\n",
    "def t(l):\n",
    "    for i in l:\n",
    "    "
   ]
  },
  {
   "cell_type": "code",
   "execution_count": 104,
   "metadata": {},
   "outputs": [],
   "source": [
    "import time,re,csv\n",
    "\n",
    "def go():\n",
    "    for i in range(5):\n",
    "        time.sleep(i/11)\n",
    "\n",
    "since=time.time()\n",
    "go()\n",
    "elapse = round((time.time()-since),2)\n",
    "log = []\n",
    "readlog(log)\n",
    "log.append([str(elapse),'8.9'])\n",
    "\n",
    "login(log)\n"
   ]
  },
  {
   "cell_type": "code",
   "execution_count": null,
   "metadata": {},
   "outputs": [],
   "source": []
  }
 ],
 "metadata": {
  "kernelspec": {
   "display_name": "Python 3",
   "language": "python",
   "name": "python3"
  },
  "language_info": {
   "codemirror_mode": {
    "name": "ipython",
    "version": 3
   },
   "file_extension": ".py",
   "mimetype": "text/x-python",
   "name": "python",
   "nbconvert_exporter": "python",
   "pygments_lexer": "ipython3",
   "version": "3.6.5"
  }
 },
 "nbformat": 4,
 "nbformat_minor": 2
}
