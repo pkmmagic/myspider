{
 "cells": [
  {
   "cell_type": "code",
   "execution_count": 12,
   "metadata": {},
   "outputs": [],
   "source": [
    "import os\n",
    "import random\n",
    "\n",
    "m_path = 'd:\\\\wtf\\\\'\n",
    "if os.path.exists(m_path)==False:\n",
    "    os.mkdir(m_path) \n",
    "    \n",
    "def make_dir(path):\n",
    "    for i in range(1,random.randint(10,50),2): \n",
    "        path1 = path + str(i)\n",
    "        if os.path.exists(path1)==False:\n",
    "            os.mkdir(path1) \n",
    "    \n",
    "def make_file(path):\n",
    "    for i in range(1,random.randint(10,100)):    \n",
    "        path1 = path + '\\\\' + str(i) + '.txt'\n",
    "        f = open(path1, 'w')\n",
    "        f.write(str(i))\n",
    "        f.close()\n",
    "\n",
    "make_dir(m_path)\n",
    "\n",
    "for i in os.listdir(m_path):\n",
    "    make_file(m_path+i)"
   ]
  },
  {
   "cell_type": "code",
   "execution_count": null,
   "metadata": {},
   "outputs": [],
   "source": []
  }
 ],
 "metadata": {
  "kernelspec": {
   "display_name": "Python 3",
   "language": "python",
   "name": "python3"
  },
  "language_info": {
   "codemirror_mode": {
    "name": "ipython",
    "version": 3
   },
   "file_extension": ".py",
   "mimetype": "text/x-python",
   "name": "python",
   "nbconvert_exporter": "python",
   "pygments_lexer": "ipython3",
   "version": "3.6.5"
  }
 },
 "nbformat": 4,
 "nbformat_minor": 2
}
