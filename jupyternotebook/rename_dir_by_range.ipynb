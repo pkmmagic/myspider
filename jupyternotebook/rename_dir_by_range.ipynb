{
 "cells": [
  {
   "cell_type": "code",
   "execution_count": 1,
   "metadata": {},
   "outputs": [
    {
     "name": "stdout",
     "output_type": "stream",
     "text": [
      "[147, 148]\n"
     ]
    }
   ],
   "source": [
    "import os\n",
    "\n",
    "m_path = 'd:\\\\img\\\\t\\\\'\n",
    "START_INDEX = 145\n",
    "\n",
    "num_name_list = []\n",
    "for i in os.listdir(m_path):\n",
    "    num_name_list.append(int(i))\n",
    "\n",
    "    \n",
    "print(num_name_list)\n"
   ]
  },
  {
   "cell_type": "code",
   "execution_count": 2,
   "metadata": {},
   "outputs": [],
   "source": [
    "def renameDir(l):\n",
    "    for i in range(START_INDEX,len(l)+START_INDEX):\n",
    "        os.rename(m_path+str(min(l)),m_path+str(i))\n",
    "        l.remove(min(l))\n",
    "        \n",
    "renameDir(num_name_list)\n",
    "    "
   ]
  },
  {
   "cell_type": "code",
   "execution_count": null,
   "metadata": {},
   "outputs": [],
   "source": []
  }
 ],
 "metadata": {
  "kernelspec": {
   "display_name": "Python 3",
   "language": "python",
   "name": "python3"
  },
  "language_info": {
   "codemirror_mode": {
    "name": "ipython",
    "version": 3
   },
   "file_extension": ".py",
   "mimetype": "text/x-python",
   "name": "python",
   "nbconvert_exporter": "python",
   "pygments_lexer": "ipython3",
   "version": "3.6.5"
  }
 },
 "nbformat": 4,
 "nbformat_minor": 2
}
