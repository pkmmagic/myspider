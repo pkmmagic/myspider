{
 "cells": [
  {
   "cell_type": "code",
   "execution_count": 3,
   "metadata": {},
   "outputs": [
    {
     "name": "stdout",
     "output_type": "stream",
     "text": [
      "0\n"
     ]
    }
   ],
   "source": [
    "#!-*- coding:utf-8 -*-\n",
    "\n",
    "import requests\n",
    "import urllib.request \n",
    "from bs4 import BeautifulSoup\n",
    "\n",
    "result_list = ''\n",
    "\n",
    "num_list =['246889']\n",
    "\n",
    "for num in num_list:\n",
    "    result = requests.get('http://www.weiai2048.com/2048/read.php?tid-' + num + '.html')\n",
    "    result_list += result.text\n",
    "    #ind = num_list.index(num)+1\n",
    "    #length = len(num_list)\n",
    "    #if ind==int(length*0.25):\n",
    "        #print('25% is done.')\n",
    "    #if ind==int(length*0.5):\n",
    "        #print('50% is done.')\n",
    "    #if ind==int(length*0.75):\n",
    "        #print('75% is done.')\n",
    "    #if ind==int(length):\n",
    "        #print('done.')\n",
    "        \n",
    "#\n",
    "soup = BeautifulSoup(result_list,'html.parser')\n",
    "\n",
    "image_url_list = []\n",
    "\n",
    "def get_list(soup):\n",
    "    for img in soup.find_all('img'):\n",
    "        if img.has_attr('src') and img['src'].startswith('http://') and img['src'].find('upload')==-1:\n",
    "            image_url_list.append(img['src'])\n",
    "            print(img['src'])\n",
    "            \n",
    "get_list(soup)\n",
    "\n",
    "image_url_list = list(set(image_url_list))\n",
    "print(len(image_url_list))\n",
    "\n",
    "\n"
   ]
  },
  {
   "cell_type": "code",
   "execution_count": null,
   "metadata": {},
   "outputs": [],
   "source": [
    "\n"
   ]
  },
  {
   "cell_type": "code",
   "execution_count": 4,
   "metadata": {},
   "outputs": [],
   "source": [
    "#for i in image_url_list[1001:]:\n",
    "    #print(i)"
   ]
  },
  {
   "cell_type": "code",
   "execution_count": 55,
   "metadata": {},
   "outputs": [
    {
     "name": "stdout",
     "output_type": "stream",
     "text": [
      "d:\\img\\29\n"
     ]
    }
   ],
   "source": [
    "def mkdir():\n",
    "    import os\n",
    "    path=\"d:\\\\img\\\\29\"\n",
    "    #path=path + str(len(os.listdir(path))+1)\n",
    "    if not os.path.exists(path):\n",
    "        os.makedirs(path)\n",
    "        return path\n",
    "    return path\n",
    " \n",
    "mkpath=mkdir()\n",
    "\n",
    "print(mkpath)\n"
   ]
  },
  {
   "cell_type": "code",
   "execution_count": null,
   "metadata": {
    "scrolled": true
   },
   "outputs": [
    {
     "name": "stdout",
     "output_type": "stream",
     "text": [
      "25% is done.\n",
      "50% is done.\n",
      "75% is done.\n"
     ]
    }
   ],
   "source": [
    "import urllib\n",
    "import time\n",
    "import urllib.request \n",
    "from win32 import win32api\n",
    "\n",
    "since = time.time()\n",
    "#678\n",
    "#mkpath = 'd:\\\\img\\\\17'\n",
    "\n",
    "image_url_list=[]\n",
    "\n",
    "f = open('d:\\\\img\\\\' + '1.txt' , 'r')\n",
    "for line in f.readlines():\n",
    "    linestrip = line.strip()\n",
    "    image_url_list.append(linestrip)\n",
    "\n",
    "f.close()\n",
    "\n",
    "opener=urllib.request.build_opener()\n",
    "\n",
    "opener.addheaders=[('User-Agent','Mozilla/5.0 (Windows NT 10.0; WOW64) AppleWebKit/537.36 (KHTML, like Gecko) Chrome/55.0.2883.75 Safari/537.36')]\n",
    "urllib.request.install_opener(opener)\n",
    "\n",
    "\n",
    "image_url_list = image_url_list[493:]\n",
    "\n",
    "def get_img(image_url_list):\n",
    "    x=1\n",
    "    for img in image_url_list:\n",
    "        image_url = img\n",
    "        urllib.request.urlretrieve(url=image_url.strip(),filename=mkpath+'\\%s.jpg' % x)\n",
    "        x+=1\n",
    "        length = len(image_url_list)\n",
    "        ind = image_url_list.index(img)+1\n",
    "        if ind==int(length*0.25):\n",
    "            print('25% is done.')\n",
    "        if ind==int(length*0.5):\n",
    "            print('50% is done.')\n",
    "        if ind==int(length*0.75):\n",
    "            print('75% is done.')\n",
    "        if ind==int(length):\n",
    "            time_elapsed = time.time() - since\n",
    "            win32api.MessageBox( 0,'{:.0f}m {:.0f}s'.format(time_elapsed // 60, time_elapsed % 60), '消息框标题')\n",
    "            print('done.')\n",
    "        time.sleep(10)\n",
    "\n",
    "try:\n",
    "    get_img(image_url_list)\n",
    "except Exception as e:\n",
    "    win32api.MessageBox( 0,str(e), '消息框标题')\n",
    "\n",
    "\n"
   ]
  },
  {
   "cell_type": "code",
   "execution_count": null,
   "metadata": {},
   "outputs": [],
   "source": []
  }
 ],
 "metadata": {
  "kernelspec": {
   "display_name": "Python 3",
   "language": "python",
   "name": "python3"
  },
  "language_info": {
   "codemirror_mode": {
    "name": "ipython",
    "version": 3
   },
   "file_extension": ".py",
   "mimetype": "text/x-python",
   "name": "python",
   "nbconvert_exporter": "python",
   "pygments_lexer": "ipython3",
   "version": "3.6.5"
  }
 },
 "nbformat": 4,
 "nbformat_minor": 2
}
