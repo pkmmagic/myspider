{
 "cells": [
  {
   "cell_type": "code",
   "execution_count": 12,
   "metadata": {},
   "outputs": [
    {
     "name": "stdout",
     "output_type": "stream",
     "text": [
      "0      16.03\n",
      "1      12.70\n",
      "2      11.87\n",
      "3      14.57\n",
      "4      14.08\n",
      "5      12.79\n",
      "6      13.73\n",
      "7      12.78\n",
      "8      10.60\n",
      "9       9.04\n",
      "10     15.19\n",
      "11     14.58\n",
      "12     14.12\n",
      "13     11.07\n",
      "14     15.55\n",
      "15     13.93\n",
      "16     11.79\n",
      "17     14.25\n",
      "18     16.89\n",
      "19     14.12\n",
      "20     15.06\n",
      "21      9.60\n",
      "22     12.31\n",
      "23     12.27\n",
      "24     10.55\n",
      "25     13.92\n",
      "26     11.03\n",
      "27     16.51\n",
      "28     14.34\n",
      "29     15.92\n",
      "       ...  \n",
      "163    14.58\n",
      "164    11.05\n",
      "165    14.84\n",
      "166    13.15\n",
      "167    12.13\n",
      "168    14.25\n",
      "169    13.96\n",
      "170    13.72\n",
      "171    16.43\n",
      "172    11.34\n",
      "173    14.98\n",
      "174    10.22\n",
      "175     8.78\n",
      "176    14.51\n",
      "177    12.22\n",
      "178     9.83\n",
      "179     8.97\n",
      "180    12.93\n",
      "181    13.92\n",
      "182    14.78\n",
      "183    11.95\n",
      "184    10.03\n",
      "185    12.12\n",
      "186    12.44\n",
      "187     9.47\n",
      "188    14.46\n",
      "189    13.51\n",
      "190    12.09\n",
      "191    14.58\n",
      "192    14.59\n",
      "Name: par3.birdiepct, Length: 193, dtype: float64\n"
     ]
    }
   ],
   "source": [
    "import pandas\n",
    "import matplotlib.pyplot as plt\n",
    "\n",
    "pga = pandas.read_csv('pga.csv')\n",
    "pga = pga[0:200]\n",
    "\n",
    "pga1 = pga['par3.birdiepct']\n",
    "pga2 = pga['totalmoney']\n",
    "pga2 = pga2.drop(148).drop(183).drop(119).drop(180).drop(166).drop(124).drop(172)\n",
    "pga1 = pga1.drop(148).drop(183).drop(119).drop(180).drop(166).drop(124).drop(172)\n",
    "\n",
    "sorted_pga2 = pga2.sort_values(ascending=False)\n",
    "\n",
    "\n",
    "\n",
    "pga1.index = list(range(len(pga1)))\n",
    "pga2.index = list(range(len(pga2)))\n",
    "print(pga1)"
   ]
  },
  {
   "cell_type": "code",
   "execution_count": 26,
   "metadata": {},
   "outputs": [
    {
     "data": {
      "image/png": "[encoded data removed]",
      "text/plain": [
       "<Figure size 432x288 with 1 Axes>"
      ]
     },
     "metadata": {},
     "output_type": "display_data"
    }
   ],
   "source": [
    "plt.scatter(pga1, pga2)\n",
    "\n",
    "plt.show()\n"
   ]
  },
  {
   "cell_type": "code",
   "execution_count": 11,
   "metadata": {},
   "outputs": [
    {
     "name": "stdout",
     "output_type": "stream",
     "text": [
      "Shape of the series: (193,)\n",
      "Shape of the newaxis: (193, 1)\n",
      "151294.96227780243\n",
      "2103730\n"
     ]
    }
   ],
   "source": [
    "from sklearn.linear_model import LinearRegression\n",
    "import numpy as np\n",
    "\n",
    "print('Shape of the series:', pga1.shape)\n",
    "print('Shape of the newaxis:',pga1[:, np.newaxis].shape)\n",
    "\n",
    "lm = LinearRegression()\n",
    "lm.fit(pga1[:, np.newaxis],pga2)\n",
    "theta1=lm.coef_[0]\n",
    "print(theta1)\n",
    "\n",
    "print(pga2[0])"
   ]
  },
  {
   "cell_type": "code",
   "execution_count": 20,
   "metadata": {},
   "outputs": [
    {
     "name": "stdout",
     "output_type": "stream",
     "text": [
      "245843698797.3031\n"
     ]
    },
    {
     "data": {
      "image/png": "[encoded data removed]",
      "text/plain": [
       "<Figure size 432x288 with 1 Axes>"
      ]
     },
     "metadata": {},
     "output_type": "display_data"
    }
   ],
   "source": [
    "def cost(theta0, theta1, x, y):\n",
    "    J=0\n",
    "    m=len(x)\n",
    "    for i in range(m):\n",
    "        h = theta1*x[i]+theta0\n",
    "        J+=(h-y[i])**2\n",
    "    J/=(2*m)\n",
    "    return J\n",
    "\n",
    "print(cost(0,77000,pga1,pga2))\n",
    "\n",
    "theta0 = 0\n",
    "theta1s = np.linspace(74000,80000,100)\n",
    "costs=[]\n",
    "for theta1 in theta1s:\n",
    "    costs.append(cost(theta0, theta1, pga1,pga2))\n",
    "\n",
    "plt.plot(theta1s, costs)\n",
    "plt.show()"
   ]
  },
  {
   "cell_type": "code",
   "execution_count": 4,
   "metadata": {},
   "outputs": [
    {
     "name": "stdout",
     "output_type": "stream",
     "text": [
      "-13128274.078158552\n",
      "-974379.7246632123\n"
     ]
    }
   ],
   "source": [
    "def partial_cost_theta1(theta0, theta1, x, y):\n",
    "    h = theta0 + theta1*x\n",
    "    diff = (h-y)*x\n",
    "    partial = diff.sum()/(x.shape[0])\n",
    "    return partial\n",
    "\n",
    "partia1 = partial_cost_theta1(0,1, pga1,pga2)\n",
    "print(partia1)\n",
    "\n",
    "def partial_cost_theta0(theta0,theta1,x,y):\n",
    "    h = theta0 + theta1*x\n",
    "    diff = (h-y)\n",
    "    partial = diff.sum()/(x.shape[0])\n",
    "    return partial\n",
    "\n",
    "partia0 = partial_cost_theta0(1,1, pga1,pga2)\n",
    "print(partia0)"
   ]
  },
  {
   "cell_type": "code",
   "execution_count": 9,
   "metadata": {},
   "outputs": [
    {
     "name": "stderr",
     "output_type": "stream",
     "text": [
      "c:\\users\\administrator\\appdata\\local\\programs\\python\\python36-32\\lib\\site-packages\\ipykernel_launcher.py:6: RuntimeWarning: overflow encountered in double_scalars\n",
      "  \n",
      "c:\\users\\administrator\\appdata\\local\\programs\\python\\python36-32\\lib\\site-packages\\ipykernel_launcher.py:11: RuntimeWarning: invalid value encountered in double_scalars\n",
      "  # This is added back by InteractiveShellApp.init_path()\n"
     ]
    },
    {
     "name": "stdout",
     "output_type": "stream",
     "text": [
      "Theta1 =  -5.777230521852448e+173\n"
     ]
    },
    {
     "data": {
      "image/png": "[encoded data removed]",
      "text/plain": [
       "<Figure size 432x288 with 1 Axes>"
      ]
     },
     "metadata": {},
     "output_type": "display_data"
    }
   ],
   "source": [
    "def gradient_descent(x,y,alpha=0.1,theta0=0,theta1=0):\n",
    "    max_epochs = 1000\n",
    "    counter=0\n",
    "    c = cost(theta1,theta0,pga1,pga2)\n",
    "    costs = [c]\n",
    "    convergence_thres= 0.000001\n",
    "    cprev=c+10\n",
    "    theta0s=[theta0]\n",
    "    theta1s=[theta1]\n",
    "    \n",
    "    while(np.abs(cprev-c)>convergence_thres) and (counter<max_epochs):\n",
    "        cprev = c\n",
    "        update0 = alpha*partial_cost_theta0(theta0,theta1,x,y)\n",
    "        update1 = alpha*partial_cost_theta1(theta0,theta1,x,y)\n",
    "        \n",
    "        theta0-=update0\n",
    "        theta1-=update1\n",
    "        \n",
    "        theta0s.append(theta0)\n",
    "        theta1s.append(theta1)\n",
    "        \n",
    "        c=cost(theta0,theta1,pga1,pga2)\n",
    "        \n",
    "        costs.append(c)\n",
    "        counter+=1\n",
    "    return{'theta0': theta0,'theta1':theta1,'costs':costs}\n",
    "\n",
    "print('Theta1 = ', gradient_descent(pga2,pga1)['theta1'])\n",
    "descend=gradient_descent(pga2,pga1,alpha=0.01)\n",
    "plt.scatter(range(len(descend['costs'])),descend['costs'])\n",
    "plt.show()"
   ]
  },
  {
   "cell_type": "code",
   "execution_count": null,
   "metadata": {},
   "outputs": [],
   "source": []
  }
 ],
 "metadata": {
  "kernelspec": {
   "display_name": "Python 3",
   "language": "python",
   "name": "python3"
  },
  "language_info": {
   "codemirror_mode": {
    "name": "ipython",
    "version": 3
   },
   "file_extension": ".py",
   "mimetype": "text/x-python",
   "name": "python",
   "nbconvert_exporter": "python",
   "pygments_lexer": "ipython3",
   "version": "3.6.5"
  }
 },
 "nbformat": 4,
 "nbformat_minor": 2
}
