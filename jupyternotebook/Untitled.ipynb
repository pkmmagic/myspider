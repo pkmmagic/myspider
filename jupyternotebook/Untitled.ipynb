{
 "cells": [
  {
   "cell_type": "code",
   "execution_count": 2,
   "metadata": {},
   "outputs": [
    {
     "name": "stdout",
     "output_type": "stream",
     "text": [
      "16\n"
     ]
    }
   ],
   "source": [
    "import os\n",
    "import shutil\n",
    "\n",
    "PATH = 'd:\\\\censor21\\\\'\n",
    "\n",
    "NUM_FILE = 50\n",
    "\n",
    "num_dir = int(len(os.listdir(PATH))/NUM_FILE) + 1\n",
    "\n",
    "\n",
    "print (num_dir)"
   ]
  },
  {
   "cell_type": "code",
   "execution_count": 7,
   "metadata": {},
   "outputs": [],
   "source": [
    "def mdir(PATH, NUM_FILE):\n",
    "    num_dir = int(len(os.listdir(PATH))/NUM_FILE) + 1\n",
    "    dir_list = []\n",
    "    for i in range(num_dir):\n",
    "        os.makedirs(PATH+str(i+1))\n",
    "        dir_list.append(PATH+str(i+1))\n",
    "    return dir_list\n",
    "\n",
    "def move(PATH, newpath):\n",
    "    for i in os.listdir(PATH):\n",
    "        if os.path.isfile(PATH + i):\n",
    "            shutil.move(newpath+'\\\\'+i, PATH + i)\n",
    "            print(i+' move to '+ newpath)\n",
    "            if len(os.listdir(newpath))==NUM_FILE:\n",
    "                break\n",
    "\n"
   ]
  },
  {
   "cell_type": "code",
   "execution_count": 8,
   "metadata": {},
   "outputs": [
    {
     "ename": "FileExistsError",
     "evalue": "[WinError 183] 当文件已存在时，无法创建该文件。: 'd:\\\\censor21\\\\1'",
     "output_type": "error",
     "traceback": [
      "\u001b[1;31m---------------------------------------------------------------------------\u001b[0m",
      "\u001b[1;31mFileExistsError\u001b[0m                           Traceback (most recent call last)",
      "\u001b[1;32m<ipython-input-8-5f4ca2c7c7a5>\u001b[0m in \u001b[0;36m<module>\u001b[1;34m()\u001b[0m\n\u001b[1;32m----> 1\u001b[1;33m \u001b[0mdir_list\u001b[0m \u001b[1;33m=\u001b[0m \u001b[0mmdir\u001b[0m\u001b[1;33m(\u001b[0m\u001b[0mPATH\u001b[0m\u001b[1;33m,\u001b[0m \u001b[0mNUM_FILE\u001b[0m\u001b[1;33m)\u001b[0m\u001b[1;33m\u001b[0m\u001b[0m\n\u001b[0m",
      "\u001b[1;32m<ipython-input-7-9521cb9e7b1d>\u001b[0m in \u001b[0;36mmdir\u001b[1;34m(PATH, NUM_FILE)\u001b[0m\n\u001b[0;32m      3\u001b[0m     \u001b[0mdir_list\u001b[0m \u001b[1;33m=\u001b[0m \u001b[1;33m[\u001b[0m\u001b[1;33m]\u001b[0m\u001b[1;33m\u001b[0m\u001b[0m\n\u001b[0;32m      4\u001b[0m     \u001b[1;32mfor\u001b[0m \u001b[0mi\u001b[0m \u001b[1;32min\u001b[0m \u001b[0mrange\u001b[0m\u001b[1;33m(\u001b[0m\u001b[0mnum_dir\u001b[0m\u001b[1;33m)\u001b[0m\u001b[1;33m:\u001b[0m\u001b[1;33m\u001b[0m\u001b[0m\n\u001b[1;32m----> 5\u001b[1;33m         \u001b[0mos\u001b[0m\u001b[1;33m.\u001b[0m\u001b[0mmakedirs\u001b[0m\u001b[1;33m(\u001b[0m\u001b[0mPATH\u001b[0m\u001b[1;33m+\u001b[0m\u001b[0mstr\u001b[0m\u001b[1;33m(\u001b[0m\u001b[0mi\u001b[0m\u001b[1;33m+\u001b[0m\u001b[1;36m1\u001b[0m\u001b[1;33m)\u001b[0m\u001b[1;33m)\u001b[0m\u001b[1;33m\u001b[0m\u001b[0m\n\u001b[0m\u001b[0;32m      6\u001b[0m         \u001b[0mdir_list\u001b[0m\u001b[1;33m.\u001b[0m\u001b[0mappend\u001b[0m\u001b[1;33m(\u001b[0m\u001b[0mPATH\u001b[0m\u001b[1;33m+\u001b[0m\u001b[0mstr\u001b[0m\u001b[1;33m(\u001b[0m\u001b[0mi\u001b[0m\u001b[1;33m+\u001b[0m\u001b[1;36m1\u001b[0m\u001b[1;33m)\u001b[0m\u001b[1;33m)\u001b[0m\u001b[1;33m\u001b[0m\u001b[0m\n\u001b[0;32m      7\u001b[0m     \u001b[1;32mreturn\u001b[0m \u001b[0mdir_list\u001b[0m\u001b[1;33m\u001b[0m\u001b[0m\n",
      "\u001b[1;32mC:\\ProgramData\\Anaconda3\\lib\\os.py\u001b[0m in \u001b[0;36mmakedirs\u001b[1;34m(name, mode, exist_ok)\u001b[0m\n\u001b[0;32m    218\u001b[0m             \u001b[1;32mreturn\u001b[0m\u001b[1;33m\u001b[0m\u001b[0m\n\u001b[0;32m    219\u001b[0m     \u001b[1;32mtry\u001b[0m\u001b[1;33m:\u001b[0m\u001b[1;33m\u001b[0m\u001b[0m\n\u001b[1;32m--> 220\u001b[1;33m         \u001b[0mmkdir\u001b[0m\u001b[1;33m(\u001b[0m\u001b[0mname\u001b[0m\u001b[1;33m,\u001b[0m \u001b[0mmode\u001b[0m\u001b[1;33m)\u001b[0m\u001b[1;33m\u001b[0m\u001b[0m\n\u001b[0m\u001b[0;32m    221\u001b[0m     \u001b[1;32mexcept\u001b[0m \u001b[0mOSError\u001b[0m\u001b[1;33m:\u001b[0m\u001b[1;33m\u001b[0m\u001b[0m\n\u001b[0;32m    222\u001b[0m         \u001b[1;31m# Cannot rely on checking for EEXIST, since the operating system\u001b[0m\u001b[1;33m\u001b[0m\u001b[1;33m\u001b[0m\u001b[0m\n",
      "\u001b[1;31mFileExistsError\u001b[0m: [WinError 183] 当文件已存在时，无法创建该文件。: 'd:\\\\censor21\\\\1'"
     ]
    }
   ],
   "source": [
    "dir_list = mdir(PATH, NUM_FILE)"
   ]
  },
  {
   "cell_type": "code",
   "execution_count": 6,
   "metadata": {},
   "outputs": [
    {
     "name": "stdout",
     "output_type": "stream",
     "text": [
      "['d:\\\\censor21\\\\1', 'd:\\\\censor21\\\\2', 'd:\\\\censor21\\\\3', 'd:\\\\censor21\\\\4', 'd:\\\\censor21\\\\5', 'd:\\\\censor21\\\\6', 'd:\\\\censor21\\\\7', 'd:\\\\censor21\\\\8', 'd:\\\\censor21\\\\9', 'd:\\\\censor21\\\\10', 'd:\\\\censor21\\\\11', 'd:\\\\censor21\\\\12', 'd:\\\\censor21\\\\13', 'd:\\\\censor21\\\\14', 'd:\\\\censor21\\\\15', 'd:\\\\censor21\\\\16']\n"
     ]
    }
   ],
   "source": [
    "for i in dir_list:\n",
    "    move(PATH)"
   ]
  },
  {
   "cell_type": "code",
   "execution_count": 26,
   "metadata": {},
   "outputs": [
    {
     "name": "stdout",
     "output_type": "stream",
     "text": [
      "['1']\n",
      "d:\\img\\test\\1\\1593cb.gif removed\n",
      "d:\\img\\test\\1\\43.gif removed\n",
      "d:\\img\\test\\1\\44.gif removed\n",
      "d:\\img\\test\\1\\545b0c.gif removed\n"
     ]
    }
   ],
   "source": [
    "\n",
    "\n",
    "m_path = 'd:\\\\img\\\\test\\\\'\n",
    "only_want = 'jpg'\n",
    "\n",
    "dir_path_list = []\n",
    "for i in os.listdir(m_path):\n",
    "    if os.path.isdir(m_path+i):\n",
    "        dir_path_list.append(i)\n",
    "\n",
    "print(dir_path_list)\n",
    "        \n",
    "\n",
    "def cleanJpg(path,only_want):\n",
    "    for i in os.listdir(path):\n",
    "        if os.path.splitext(i)[1].strip('.') != only_want:\n",
    "            os.remove(path+'\\\\'+i)\n",
    "            print(path+'\\\\'+i+' removed')\n",
    "\n",
    "\n",
    "for i in dir_path_list:\n",
    "    cleanJpg(m_path+i,only_want)\n",
    "\n"
   ]
  },
  {
   "cell_type": "code",
   "execution_count": 27,
   "metadata": {},
   "outputs": [
    {
     "name": "stdout",
     "output_type": "stream",
     "text": [
      "[1, 1, 1, 1, 2, 3, 4]\n"
     ]
    }
   ],
   "source": [
    "l = [1,1,1,1,2,3,4,555]\n",
    "\n",
    "\n",
    "print(l[:-1])"
   ]
  },
  {
   "cell_type": "code",
   "execution_count": 16,
   "metadata": {},
   "outputs": [
    {
     "data": {
      "text/plain": [
       "'jpg'"
      ]
     },
     "execution_count": 16,
     "metadata": {},
     "output_type": "execute_result"
    }
   ],
   "source": [
    "os.path.splitext('023331x0tprxxasjw0xxe0.jpg')[1].strip('.')"
   ]
  },
  {
   "cell_type": "code",
   "execution_count": null,
   "metadata": {},
   "outputs": [],
   "source": []
  }
 ],
 "metadata": {
  "kernelspec": {
   "display_name": "Python 3",
   "language": "python",
   "name": "python3"
  },
  "language_info": {
   "codemirror_mode": {
    "name": "ipython",
    "version": 3
   },
   "file_extension": ".py",
   "mimetype": "text/x-python",
   "name": "python",
   "nbconvert_exporter": "python",
   "pygments_lexer": "ipython3",
   "version": "3.6.5"
  }
 },
 "nbformat": 4,
 "nbformat_minor": 2
}
