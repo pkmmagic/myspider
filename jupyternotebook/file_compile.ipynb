{
 "cells": [
  {
   "cell_type": "code",
   "execution_count": 1,
   "metadata": {},
   "outputs": [
    {
     "name": "stdout",
     "output_type": "stream",
     "text": [
      "['d:\\\\img\\\\t\\\\147', 'd:\\\\img\\\\t\\\\15', 'd:\\\\img\\\\t\\\\16', 'd:\\\\img\\\\t\\\\17', 'd:\\\\img\\\\t\\\\18', 'd:\\\\img\\\\t\\\\19', 'd:\\\\img\\\\t\\\\20', 'd:\\\\img\\\\t\\\\21']\n",
      "[0, 7]\n"
     ]
    }
   ],
   "source": [
    "import os\n",
    "import shutil\n",
    "\n",
    "m_path = 'd:\\\\img\\\\t\\\\'\n",
    "TARGET_THRESHOLD = 5000\n",
    "\n",
    "def partA():\n",
    "    target_path_list = []\n",
    "\n",
    "    def find_target():\n",
    "        for i in os.listdir(m_path):\n",
    "            if len(os.listdir(m_path+i))<TARGET_THRESHOLD:\n",
    "                target_path_list.append(m_path+i)\n",
    "\n",
    "    find_target()\n",
    "    length_list = []\n",
    "    for i in target_path_list:\n",
    "        length_list.append(len(os.listdir(i)))       \n",
    "\n",
    "    return target_path_list\n",
    "\n",
    "print(partA())\n",
    "\n",
    "def find_2e(tl):\n",
    "    l = []\n",
    "    for i in tl:\n",
    "        l.append(len(os.listdir(i)))\n",
    "    max_ind = l.index(max(l))  \n",
    "    min_ind = l.index(min(l))\n",
    "    return [max_ind,min_ind]\n",
    "\n",
    "print (find_2e(partA()))"
   ]
  },
  {
   "cell_type": "code",
   "execution_count": 2,
   "metadata": {},
   "outputs": [],
   "source": [
    "def fix():\n",
    "    target_list = list(partA())\n",
    "    extreme_list = list(find_2e(target_list))\n",
    "    path1, path2 = target_list[extreme_list[0]], target_list[extreme_list[1]]\n",
    "    if path1 != path2:\n",
    "        for i in os.listdir(path2):\n",
    "            if len(os.listdir(path1))<TARGET_THRESHOLD:\n",
    "                p = path2 + '\\\\' \n",
    "                rn = '0' + str(extreme_list[1]) + '_'\n",
    "                np = p + rn + i\n",
    "                tp = path1+ '\\\\'  + rn + i\n",
    "                os.rename(p+ i,np)\n",
    "                shutil.move(np,tp)\n",
    "                if len(os.listdir(path2))==0:\n",
    "                    os.rmdir(path2)   \n",
    "\n",
    "while len(partA())>1:\n",
    "    fix()\n",
    "\n"
   ]
  },
  {
   "cell_type": "code",
   "execution_count": 4,
   "metadata": {},
   "outputs": [
    {
     "data": {
      "text/plain": [
       "['143', '148', '154']"
      ]
     },
     "execution_count": 4,
     "metadata": {},
     "output_type": "execute_result"
    }
   ],
   "source": [
    "os.listdir(m_path)\n"
   ]
  },
  {
   "cell_type": "code",
   "execution_count": 51,
   "metadata": {},
   "outputs": [
    {
     "name": "stdout",
     "output_type": "stream",
     "text": [
      "[131, 132, 133, 134, 135, 136, 137, 138, 139, 140, 142, 143, 146]\n"
     ]
    }
   ],
   "source": []
  },
  {
   "cell_type": "code",
   "execution_count": null,
   "metadata": {},
   "outputs": [],
   "source": []
  }
 ],
 "metadata": {
  "kernelspec": {
   "display_name": "Python 3",
   "language": "python",
   "name": "python3"
  },
  "language_info": {
   "codemirror_mode": {
    "name": "ipython",
    "version": 3
   },
   "file_extension": ".py",
   "mimetype": "text/x-python",
   "name": "python",
   "nbconvert_exporter": "python",
   "pygments_lexer": "ipython3",
   "version": "3.6.5"
  }
 },
 "nbformat": 4,
 "nbformat_minor": 2
}
