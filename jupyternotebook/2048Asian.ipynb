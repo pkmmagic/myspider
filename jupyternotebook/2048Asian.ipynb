{
 "cells": [
  {
   "cell_type": "code",
   "execution_count": 2,
   "metadata": {},
   "outputs": [],
   "source": [
    "headers = {\n",
    "'User-Agent': 'Mozilla/5.0 (Windows NT 6.1; WOW64) AppleWebKit/537.36 (KHTML, like Gecko) Chrome/49.0.2623.221 Safari/537.36 SE 2.X MetaSr 1.0',\n",
    "'Cookie':'a22e7_readlog=%2C74712%2C74677%2C74702%2C511950%2C512508%2C512506%2C507556%2C98009%2C324939%2C; a22e7_ol_offset=101947; visid_incap_1639104=7ZcAEzlZS7mfFea3pKwCuSHNPlsAAAAAQUIPAAAAAABo69fAFR2DaixTBswbv6AB; incap_ses_895_1639104=HT0QYANR1gutTvmQKK5rDM7fXlsAAAAA1wogL1ca58b0Rx8JlFO8iA==; a22e7_lastpos=F24; __tins__19410549=%7B%22sid%22%3A%201532944334072%2C%20%22vd%22%3A%204%2C%20%22expires%22%3A%201532946166020%7D; __51cke__=; __51laig__=4; ZDEDebuggerPresent=php,phtml,php3; a22e7_lastvisit=5143%091532944562%09%2F2048%2Fthread.php%3Ffid-24.html; a22e7_threadlog=%2C243619%2C99985%2C98049%2C98005%2C98047%2C0%2C21%2C7%2C24%2C'\n",
    "}"
   ]
  },
  {
   "cell_type": "code",
   "execution_count": 4,
   "metadata": {},
   "outputs": [
    {
     "name": "stdout",
     "output_type": "stream",
     "text": [
      "['528157', '528160', '528169', '528154', '528139', '528191', '528180', '519486', '528168', '528177', '528142', '528178', '528171', '528152', '528138', '528185', '528186', '528172', '528150', '528189', '528190', '528173', '528184', '528145', '528170', '528147', '517243', '528174', '528176', '528141']\n",
      "30 new numbers\n",
      "['528157', '528160', '528169', '528154', '528139', '528191', '528180', '519486', '528168', '528177', '528142', '528178', '528171', '528152', '528138', '528185', '528186', '528172', '528150', '528189', '528190', '528173', '528184', '528145', '528170', '528147', '517243', '528174', '528176', '528141']\n"
     ]
    }
   ],
   "source": [
    "import requests\n",
    "import urllib.request \n",
    "from bs4 import BeautifulSoup\n",
    "from urllib.request import urlopen\n",
    "\n",
    "#url = 'http://www.weiai2048.com/2048/thread.php?fid-21-page-144.html'\n",
    "#url = 'http://www.weiai2048.com/2048/thread.php?fid-21.html'\n",
    "url = 'http://www.weiai2048.com/2048/thread.php?fid-24-page.html'\n",
    "\n",
    "req = urllib.request.Request(url,headers=headers)\n",
    "result = urlopen(req)\n",
    "\n",
    "soup = BeautifulSoup(result,'html.parser')\n",
    "\n",
    "subpage_url_num_list = []\n",
    "\n",
    "def get_num_list(soup):\n",
    "    for page in soup.find_all('a'):\n",
    "        if (page.has_attr('href') \n",
    "            and page['href'][13:18].isdigit()\n",
    "           and int(page['href'][13:16])>=500):\n",
    "            subpage_url_num_list.append(page['href'][13:18])\n",
    "\n",
    "def get_num_list1(soup):\n",
    "    for page in soup.find_all('a'):\n",
    "        if (page.has_attr('href')\n",
    "            and page['href'][13:19].isdigit()\n",
    "           and int(page['href'][13:16])>=500):\n",
    "            subpage_url_num_list.append(page['href'][13:19])\n",
    "            \n",
    "get_num_list1(soup)\n",
    "subpage_url_num_list = list(set(subpage_url_num_list))\n",
    "print(subpage_url_num_list)\n",
    "\n",
    "def diff(listA,listB):\n",
    "    retE = [i for i in listA if i not in listB]\n",
    "    return retE\n",
    "\n",
    "All_list = []\n",
    "\n",
    "f = open('d:\\\\img\\\\' + '22.txt' , 'r')\n",
    "for line in f.readlines():\n",
    "    linestrip = line.strip()\n",
    "    All_list.append(linestrip)\n",
    "f.close()\n",
    "\n",
    "f2 = open('d:\\\\img\\\\' + '33.txt' , 'w')\n",
    "for i in diff(subpage_url_num_list,All_list):\n",
    "    i = str(i).strip('[').strip(']').replace(\"'\",\"\").replace(' ','')\n",
    "    f2.write(i+'\\n')\n",
    "f2.close()\n",
    "\n",
    "print(str(len(diff(subpage_url_num_list,All_list)))+' new numbers')\n",
    "print(diff(subpage_url_num_list,All_list))\n",
    "\n",
    "All_list=All_list+diff(subpage_url_num_list,All_list)\n",
    "\n",
    "f3 = open('d:\\\\img\\\\' + '22.txt' , 'w')\n",
    "for i in All_list:\n",
    "    i = str(i).strip('[').strip(']').replace(\"'\",\"\").replace(' ','')\n",
    "    f3.write(i+'\\n')\n",
    "f3.close()"
   ]
  },
  {
   "cell_type": "code",
   "execution_count": null,
   "metadata": {},
   "outputs": [
    {
     "name": "stdout",
     "output_type": "stream",
     "text": [
      "25% is done.\n"
     ]
    }
   ],
   "source": [
    "import requests\n",
    "import urllib.request \n",
    "from bs4 import BeautifulSoup\n",
    "from urllib.request import urlopen\n",
    "\n",
    "image_url_list = []\n",
    "num_list =[]\n",
    "f3 = open('d:\\\\img\\\\' + '33.txt' , 'r')\n",
    "for line in f3.readlines():\n",
    "    linestrip = line.strip()\n",
    "    num_list.append(linestrip)\n",
    "f3.close()\n",
    "\n",
    "def get_list1(soup):\n",
    "    for img in soup.find_all('img'):\n",
    "        if (img.has_attr('src') and img['src'].startswith('http://') \n",
    "           and img['src'].find('uploadhouse')==-1\n",
    "           and img['src'].find('ggpht')==-1\n",
    "           and img['src'].find('static.flickr')==-1):\n",
    "            image_url_list.append(img['src'])\n",
    "\n",
    "for num in num_list:\n",
    "    req = urllib.request.Request('http://www.weiai2048.com/2048/read.php?tid-' + num + '.html',headers=headers)\n",
    "    result = urlopen(req)\n",
    "    soup2 = BeautifulSoup(result,'html.parser')\n",
    "    get_list1(soup2)\n",
    "    ind = num_list.index(num)+1\n",
    "    length = len(num_list)\n",
    "    if ind==int(length*0.25):\n",
    "        print('25% is done.')\n",
    "    if ind==int(length*0.5):\n",
    "        print('50% is done.')\n",
    "    if ind==int(length*0.75):\n",
    "        print('75% is done.')\n",
    "    if ind==int(length):\n",
    "        print('done.')\n",
    "        \n",
    "\n",
    "\n",
    "image_url_list = list(set(image_url_list))\n",
    "print(len(image_url_list))\n",
    "\n",
    "def less_than_1000():\n",
    "    for i in image_url_list:\n",
    "        if image_url_list.index(i)<1000:\n",
    "            print(i)\n",
    "            \n",
    "less_than_1000()\n"
   ]
  },
  {
   "cell_type": "code",
   "execution_count": null,
   "metadata": {},
   "outputs": [],
   "source": []
  }
 ],
 "metadata": {
  "kernelspec": {
   "display_name": "Python 3",
   "language": "python",
   "name": "python3"
  },
  "language_info": {
   "codemirror_mode": {
    "name": "ipython",
    "version": 3
   },
   "file_extension": ".py",
   "mimetype": "text/x-python",
   "name": "python",
   "nbconvert_exporter": "python",
   "pygments_lexer": "ipython3",
   "version": "3.6.5"
  }
 },
 "nbformat": 4,
 "nbformat_minor": 2
}
