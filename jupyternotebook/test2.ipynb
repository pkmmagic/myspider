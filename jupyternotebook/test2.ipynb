{
 "cells": [
  {
   "cell_type": "code",
   "execution_count": 18,
   "metadata": {},
   "outputs": [
    {
     "name": "stdout",
     "output_type": "stream",
     "text": [
      "Taken 3 (2015)      6.1\n",
      "Leviathan (2014)    7.7\n",
      "dtype: float64\n"
     ]
    }
   ],
   "source": [
    "import pandas as pd\n",
    "\n",
    "fandango = pd.read_csv('fandango_score_comparison.csv')\n",
    "series_film = fandango['FILM']\n",
    "\n",
    "#print(series_film[0:10])\n",
    "\n",
    "\n",
    "from pandas import Series\n",
    "\n",
    "film_names = series_film.values\n",
    "\n",
    "#print(type(film_names))\n",
    "#print(film_names)\n",
    "\n",
    "series_imdb = fandango['IMDB']\n",
    "\n",
    "imdb_scores = series_imdb.values\n",
    "\n",
    "#print(series_rt)\n",
    "\n",
    "series_custom = Series(imdb_scores, index=film_names)\n",
    "\n",
    "#print(series_custom[['Taken 3 (2015)','Leviathan (2014)']])\n"
   ]
  },
  {
   "cell_type": "code",
   "execution_count": 8,
   "metadata": {},
   "outputs": [],
   "source": [
    "original_index = series_custom.index.tolist()\n",
    "#print(original_index)\n",
    "sorted_index = sorted(original_index)\n",
    "#print(sorted_index)\n",
    "sorted_by_index = series_custom.reindex(sorted_index)\n",
    "#print(sorted_by_index)"
   ]
  },
  {
   "cell_type": "code",
   "execution_count": 19,
   "metadata": {},
   "outputs": [],
   "source": [
    "sort_imdb = sorted(imdb_scores)\n",
    "series_custom2 = Series(film_names, index=sort_imdb)\n",
    "#print(series_custom2)\n"
   ]
  },
  {
   "cell_type": "code",
   "execution_count": 29,
   "metadata": {},
   "outputs": [
    {
     "name": "stdout",
     "output_type": "stream",
     "text": [
      "The Lazarus Effect (2015)                     5.2\n",
      "Hot Tub Time Machine 2 (2015)                 5.1\n",
      "Poltergeist (2015)                            5.0\n",
      "Hot Pursuit (2015)                            4.9\n",
      "The Woman In Black 2 Angel of Death (2015)    4.9\n",
      "The Boy Next Door (2015)                      4.6\n",
      "The Vatican Tapes (2015)                      4.6\n",
      "The Gallows (2015)                            4.4\n",
      "Paul Blart: Mall Cop 2 (2015)                 4.3\n",
      "Fifty Shades of Grey (2015)                   4.2\n",
      "dtype: float64\n"
     ]
    }
   ],
   "source": [
    "sc1 = series_custom.sort_index()\n",
    "sc2 = series_custom.sort_values(ascending=False)\n",
    "\n",
    "print(sc2[(len(sc2)-11):(len(sc2)-1)])"
   ]
  },
  {
   "cell_type": "code",
   "execution_count": 25,
   "metadata": {},
   "outputs": [
    {
     "name": "stdout",
     "output_type": "stream",
     "text": [
      "Avengers: Age of Ultron (2015)                 7.8\n",
      "Ant-Man (2015)                                 7.8\n",
      "Love & Mercy (2015)                            7.8\n",
      "Leviathan (2014)                               7.7\n",
      "The Imitation Game (2014)                      8.1\n",
      "Southpaw (2015)                                7.8\n",
      "The Man From U.N.C.L.E. (2015)                 7.6\n",
      "Ex Machina (2015)                              7.7\n",
      "Wild Tales (2014)                              8.2\n",
      "The End of the Tour (2015)                     7.9\n",
      "Red Army (2015)                                7.7\n",
      "When Marnie Was There (2015)                   7.8\n",
      "About Elly (2015)                              8.2\n",
      "Kingsman: The Secret Service (2015)            7.8\n",
      "Birdman (2014)                                 7.9\n",
      "The Gift (2015)                                7.6\n",
      "Seymour: An Introduction (2015)                7.7\n",
      "The Wrecking Crew (2015)                       7.8\n",
      "Straight Outta Compton (2015)                  8.4\n",
      "Me and Earl and The Dying Girl (2015)          8.2\n",
      "Mad Max: Fury Road (2015)                      8.3\n",
      "What We Do in the Shadows (2015)               7.6\n",
      "The Salt of the Earth (2015)                   8.4\n",
      "Song of the Sea (2014)                         8.2\n",
      "Mission: Impossible â€“ Rogue Nation (2015)    7.8\n",
      "Amy (2015)                                     8.0\n",
      "Inside Out (2015)                              8.6\n",
      "Gett: The Trial of Viviane Amsalem (2015)      7.8\n",
      "dtype: float64\n"
     ]
    }
   ],
   "source": [
    "criteria1 = series_custom > 7.5\n",
    "series_greater_than_7p5 = series_custom[criteria1]\n",
    "print(series_greater_than_7p5)"
   ]
  },
  {
   "cell_type": "code",
   "execution_count": null,
   "metadata": {},
   "outputs": [],
   "source": []
  }
 ],
 "metadata": {
  "kernelspec": {
   "display_name": "Python 3",
   "language": "python",
   "name": "python3"
  },
  "language_info": {
   "codemirror_mode": {
    "name": "ipython",
    "version": 3
   },
   "file_extension": ".py",
   "mimetype": "text/x-python",
   "name": "python",
   "nbconvert_exporter": "python",
   "pygments_lexer": "ipython3",
   "version": "3.6.5"
  }
 },
 "nbformat": 4,
 "nbformat_minor": 2
}
