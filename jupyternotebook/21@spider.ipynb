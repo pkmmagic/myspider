{
 "cells": [
  {
   "cell_type": "code",
   "execution_count": 1,
   "metadata": {},
   "outputs": [
    {
     "name": "stdout",
     "output_type": "stream",
     "text": [
      "['501856', '502256', '503830', '509259', '507015', '508485', '505507', '503159', '499413', '500001', '501840', '505987', '503834', '318895', '299829', '501839', '499443', '505516', '507569', '509281', '501822', '507599', '507805', '499855', '299025', '507761', '505530', '504726', '501041', '508450', '508466', '500044', '505547', '501048', '507775', '507610', '321365', '501051', '507051', '506999', '500079', '315431', '507074', '501052', '509283', '504571', '501838', '299032', '507573', '507779', '500113', '499404', '504566', '500071', '507797', '505894', '504740', '504746', '502495', '504714', '499409', '507056', '498791', '507561', '507774', '299029', '507513', '507795', '324939', '508446', '499445', '507490', '499448', '507070', '501844', '507556', '504569', '499894', '507021', '508473', '503165', '501847', '317973', '504572', '504896', '507503', '504694', '504780', '507577', '502218', '507065', '499437', '501835', '509271', '499393', '507033', '507618', '507047', '504840', '299038', '507807', '499816', '499838', '499450', '499936', '507548', '501851', '503187', '499440', '499405', '507788', '504577', '504564', '507624', '508452', '502272', '299024', '499414', '501830', '501855', '509278', '299026', '503179', '508455', '504578', '501850', '323193', '504560', '505504', '499399', '499406', '324307', '507044', '501928', '507538', '504562', '502466', '499395', '503173', '501842', '501831', '507518', '508460', '507040', '507585', '499762', '504995', '507031', '507075', '499871', '507077', '499429', '322904', '508463', '499441', '507588', '501826', '504576', '507748', '499401', '507783', '507754', '499408', '501920', '299028', '507752', '504799', '507751', '507029', '507507', '508491', '504823', '324652', '315080', '502251', '507798', '503271', '500064', '501853', '499398', '507012', '320445', '505007', '501054', '501843', '501848', '499410', '299034', '501858', '504990', '314646', '507793', '501949', '504950', '499391', '315977', '501829', '507768', '507510', '504565', '361482', '507491', '500503', '507010', '501836', '505527', '503792', '508468', '322017', '508484', '500004', '507759', '507024', '500085', '501854', '299030', '504574', '499774', '499423', '499969', '504770', '501827', '508458', '501047', '504415', '504685', '507801', '501857', '508476', '507036', '299023', '507072', '503168', '507530', '505896', '501834', '505536', '503184', '504585', '508482', '504605', '505541', '318597', '501936', '507781', '508461', '507580', '499882', '503826', '499432', '507810', '509275', '509286', '507526', '501852', '507602', '505900', '504750', '505545', '507046', '499433', '504563', '507026', '507522', '507552', '504575', '508477', '508478', '501056', '499569', '507806', '504981', '504582', '501832', '507767', '504573', '507613', '501954', '507776', '507025', '499417', '507067', '507499', '507007', '503152', '500029', '499861', '503845', '504940', '507079', '504593', '507060', '507058', '299037', '507544', '501824', '504810', '320996', '317491', '509289', '501861', '507062', '499907', '507756', '503169', '507593', '507005', '499447', '499390', '504946', '501057', '504587', '507786', '501845', '505889', '299040', '507043', '507606', '501043', '507050', '314256', '504709', '507482', '507764', '508474', '505535', '507809', '503143', '504957', '509264', '501846', '499420', '504606', '503149', '507533', '509266', '507477', '507792', '501821', '508490', '501823', '508480', '501050', '319832', '507596', '505532', '499452', '507049', '505002', '507000', '499418', '503842', '500493', '499415', '501825', '508471', '501862', '499403', '504788', '507757', '507564', '508456', '507772', '504736', '507042', '501039', '501049', '507506', '499779', '505951', '507069', '507019', '499436', '299042', '507467', '504680', '502066', '500094', '505523', '501859', '508488', '504731', '505524', '507037', '507485', '499442', '504410', '499827', '507804', '501833', '507583', '507054', '505551', '316735', '505511', '505538', '507515', '507011', '501837', '501841']\n",
      "400 get and 8 new numbers\n",
      "['507805', '508450', '508446', '507807', '508452', '507810', '507806', '507809']\n",
      "83.96300005912781\n"
     ]
    }
   ],
   "source": [
    "headers = {\n",
    "'User-Agent': 'Mozilla/5.0 (Windows NT 6.1; WOW64) AppleWebKit/537.36 (KHTML, like Gecko) Chrome/49.0.2623.221 Safari/537.36 SE 2.X MetaSr 1.0',\n",
    "'Cookie':'a22e7_readlog=%2C511950%2C512508%2C512506%2C507556%2C98009%2C324939%2C528189%2C530761%2C299263%2C; a22e7_lastpos=F21; a22e7_ol_offset=124645; __tins__19410549=%7B%22sid%22%3A%201533090712339%2C%20%22vd%22%3A%201%2C%20%22expires%22%3A%201533092512339%7D; __51cke__=; __51laig__=13; visid_incap_1639104=7ZcAEzlZS7mfFea3pKwCuSHNPlsAAAAAQUIPAAAAAABo69fAFR2DaixTBswbv6AB; incap_ses_895_1639104=y4IPeirGGkz7uGCTKK5rDJ8bYVsAAAAAntQoFK3DqStgZ9fxT0xFUQ==; ZDEDebuggerPresent=php,phtml,php3; a22e7_lastvisit=5274%091533090914%09%2F2048%2Fthread.php%3Ffid-21.html; a22e7_threadlog=%2C98005%2C98047%2C0%2C24%2C27%2C7%2C23%2C21%2C'\n",
    "}\n",
    "\n",
    "import requests\n",
    "import urllib.request \n",
    "from bs4 import BeautifulSoup\n",
    "from urllib.request import urlopen\n",
    "import myspider\n",
    "import time\n",
    "since = time.time()\n",
    "LibPath = 'd:\\\\img\\\\2.txt'\n",
    "NewPath = 'd:\\\\img\\\\3.txt'\n",
    "#url = 'http://www.weiai2048.com/2048/thread.php?fid-21-page-144.html'\n",
    "#url = 'http://www.weiai2048.com/2048/thread.php?fid-24.html'\n",
    "subpage_url_num_list = []\n",
    "for i in range(30,40):\n",
    "    url = 'http://www.weiai2048.com/2048/thread.php?fid-21-page-'+str(i)+'.html'\n",
    "    req = urllib.request.Request(url,headers=headers)\n",
    "    result = urlopen(req)\n",
    "    soup = BeautifulSoup(result,'html.parser')\n",
    "    myspider.get_num_list6(soup,subpage_url_num_list)\n",
    "    subpage_url_num_list = list(set(subpage_url_num_list))\n",
    "\n",
    "print(subpage_url_num_list)\n",
    "All_list = []\n",
    "myspider.open2append(LibPath,All_list)\n",
    "myspider.open2w(NewPath,subpage_url_num_list,All_list)\n",
    "\n",
    "print(str(len(subpage_url_num_list))+' get and '+\n",
    "    str(len(myspider.diff(subpage_url_num_list,All_list)))+ ' new numbers')\n",
    "print(myspider.diff(subpage_url_num_list,All_list))\n",
    "\n",
    "All_list=All_list+myspider.diff(subpage_url_num_list,All_list)\n",
    "\n",
    "myspider.open2w(LibPath,All_list)\n",
    "time_elapsed = time.time() - since\n",
    "print (time_elapsed)"
   ]
  },
  {
   "cell_type": "code",
   "execution_count": 2,
   "metadata": {},
   "outputs": [
    {
     "name": "stdout",
     "output_type": "stream",
     "text": [
      "507805 done\n",
      "0: 4.648999929428101\n",
      "508450 done\n",
      "1: 3.9159998893737793\n",
      "508446 done\n",
      "2: 2.4679999351501465\n",
      "507807 done\n",
      "3: 3.434000015258789\n",
      "508452 done\n",
      "4: 15.354000091552734\n",
      "507810 done\n",
      "5: 15.316999912261963\n",
      "507806 done\n",
      "6: 3.937000274658203\n",
      "507809 done\n",
      "7: 10.276999950408936\n",
      "147\n"
     ]
    }
   ],
   "source": [
    "headers = {\n",
    "'User-Agent': 'Mozilla/5.0 (Windows NT 6.1; WOW64) AppleWebKit/537.36 (KHTML, like Gecko) Chrome/49.0.2623.221 Safari/537.36 SE 2.X MetaSr 1.0',\n",
    "'Cookie':'a22e7_readlog=%2C511950%2C512508%2C512506%2C507556%2C98009%2C324939%2C528189%2C530761%2C299263%2C; a22e7_lastpos=F21; a22e7_ol_offset=124645; __tins__19410549=%7B%22sid%22%3A%201533090712339%2C%20%22vd%22%3A%201%2C%20%22expires%22%3A%201533092512339%7D; __51cke__=; __51laig__=13; visid_incap_1639104=7ZcAEzlZS7mfFea3pKwCuSHNPlsAAAAAQUIPAAAAAABo69fAFR2DaixTBswbv6AB; incap_ses_895_1639104=y4IPeirGGkz7uGCTKK5rDJ8bYVsAAAAAntQoFK3DqStgZ9fxT0xFUQ==; ZDEDebuggerPresent=php,phtml,php3; a22e7_lastvisit=5274%091533090914%09%2F2048%2Fthread.php%3Ffid-21.html; a22e7_threadlog=%2C98005%2C98047%2C0%2C24%2C27%2C7%2C23%2C21%2C'\n",
    "}\n",
    "\n",
    "import requests\n",
    "import urllib.request \n",
    "from bs4 import BeautifulSoup\n",
    "from urllib.request import urlopen\n",
    "import myspider, time\n",
    "UrlPath = 'd:\\\\img\\\\1.txt'\n",
    "ErPath = 'd:\\\\img\\\\4.txt'\n",
    "NewPath = 'd:\\\\img\\\\3.txt'\n",
    "image_url_list = []\n",
    "error_list=[]\n",
    "num_list =[]\n",
    "myspider.open2append(NewPath,num_list)\n",
    "#myspider.open2append('d:\\\\img\\\\bu.txt',num_list)\n",
    "\n",
    "def get_url(num):\n",
    "    req = urllib.request.Request('http://www.weiai2048.com/2048/read.php?tid-' + num + '.html',headers=headers)\n",
    "    result = urlopen(req, timeout=45)\n",
    "    soup2 = BeautifulSoup(result,'html.parser')\n",
    "    myspider.get_list(soup2,image_url_list)\n",
    "    print(num +' done')\n",
    "\n",
    "\n",
    "for num in num_list:\n",
    "    try:\n",
    "        since=time.time()\n",
    "        get_url(num)\n",
    "        time_elapsed = time.time() - since\n",
    "        print(str(num_list.index(num))+': '+str(time_elapsed))\n",
    "    except Exception as e:\n",
    "        error_list.append(num)\n",
    "\n",
    "image_url_list = list(set(image_url_list))\n",
    "print(len(image_url_list))\n",
    "\n",
    "def open2a(path,l):\n",
    "    f = open(path , 'a')\n",
    "    for i in l:\n",
    "        i = str(i).strip('[').strip(']').replace(\"'\",\"\").replace(' ','')\n",
    "        f.write(i+'\\n')\n",
    "    f.close()\n",
    "\n",
    "open2a(UrlPath,image_url_list)\n",
    "myspider.open2w(ErPath,error_list)\n"
   ]
  },
  {
   "cell_type": "code",
   "execution_count": 3,
   "metadata": {},
   "outputs": [],
   "source": [
    "myspider.open2w(ErPath,error_list)"
   ]
  },
  {
   "cell_type": "code",
   "execution_count": null,
   "metadata": {},
   "outputs": [],
   "source": []
  }
 ],
 "metadata": {
  "kernelspec": {
   "display_name": "Python 3",
   "language": "python",
   "name": "python3"
  },
  "language_info": {
   "codemirror_mode": {
    "name": "ipython",
    "version": 3
   },
   "file_extension": ".py",
   "mimetype": "text/x-python",
   "name": "python",
   "nbconvert_exporter": "python",
   "pygments_lexer": "ipython3",
   "version": "3.6.5"
  }
 },
 "nbformat": 4,
 "nbformat_minor": 2
}
