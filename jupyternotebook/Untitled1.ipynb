{
 "cells": [
  {
   "cell_type": "code",
   "execution_count": null,
   "metadata": {},
   "outputs": [],
   "source": [
    "import myspider, os\n",
    "\n",
    "headers = {\n",
    "    'User-Agent': 'Mozilla/5.0 (Windows NT 6.1; WOW64) AppleWebKit/537.36 (KHTML, like Gecko) Chrome/49.0.2623.221 Safari/537.36 SE 2.X MetaSr 1.0',\n",
    "    'Cookie': 'visid_incap_1639104=mhq7QWZpR2GA0I8N0naX1J4XcVsAAAAAQUIPAAAAAADtpe/k2K3rqJNMc2EdFHeb; incap_ses_305_1639104=XXYQLSKD+AuLGSXiDpU7BJ4XcVsAAAAAiK6HBaFvNPO7LvfWTBGqDw==; a22e7_lastvisit=35%091534138295%09%2F2048%2Fthread.php%3Ffid-27.html; a22e7_lastpos=F27; a22e7_ol_offset=231927; a22e7_threadlog=%2C27%2C; __tins__19410549=%7B%22sid%22%3A%201534138284055%2C%20%22vd%22%3A%201%2C%20%22expires%22%3A%201534140084055%7D; __51cke__=; __51laig__=1'\n",
    "}\n",
    "#mainPage = 'love2048.com'\n",
    "mainPage = 'www.weiai2048.com'\n",
    "\n",
    "libPath= 'lib.txt'\n",
    "libIndex = 0\n",
    "pace = 10\n",
    "\n",
    "def part_2_go(headers, mainPage, libPath):\n",
    "    try:\n",
    "        num_list = myspider.get_num_list(libPath)[libIndex:pace]\n",
    "        print('lib num list successfully get from %s' % libPath)\n",
    "    except Exception as e:\n",
    "        print(e)\n",
    "    try:\n",
    "        myspider.get_url_from_numlist_download(num_list, mainPage, headers)\n",
    "    except Exception as e:\n",
    "        print(e)\n",
    "\n",
    "part_2_go"
   ]
  }
 ],
 "metadata": {
  "kernelspec": {
   "display_name": "Python 3",
   "language": "python",
   "name": "python3"
  },
  "language_info": {
   "codemirror_mode": {
    "name": "ipython",
    "version": 3
   },
   "file_extension": ".py",
   "mimetype": "text/x-python",
   "name": "python",
   "nbconvert_exporter": "python",
   "pygments_lexer": "ipython3",
   "version": "3.6.5"
  }
 },
 "nbformat": 4,
 "nbformat_minor": 2
}
