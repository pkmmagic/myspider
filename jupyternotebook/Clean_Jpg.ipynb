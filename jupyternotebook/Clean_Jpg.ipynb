{
 "cells": [
  {
   "cell_type": "code",
   "execution_count": 4,
   "metadata": {},
   "outputs": [
    {
     "name": "stdout",
     "output_type": "stream",
     "text": [
      "['143', '144', '145', '146', '147', '148', '149', '150', '151', '152', '153', '154', '155', '156', '157', '158', '159', '160', '161', '162', '163', '164', '165']\n"
     ]
    }
   ],
   "source": [
    "import os\n",
    "\n",
    "m_path = 'd:\\\\img\\\\t\\\\'\n",
    "\n",
    "print(os.listdir(m_path))"
   ]
  },
  {
   "cell_type": "code",
   "execution_count": 5,
   "metadata": {},
   "outputs": [
    {
     "name": "stdout",
     "output_type": "stream",
     "text": [
      "['143', '144', '145', '146', '147', '148', '149', '150', '151', '152', '153', '154', '155', '156', '157', '158', '159', '160', '161', '162', '163', '164', '165']\n"
     ]
    }
   ],
   "source": [
    "#only takes dir\n",
    "dir_path_list = []\n",
    "for i in os.listdir(m_path):\n",
    "    if os.path.isdir(m_path+i):\n",
    "        dir_path_list.append(i)\n",
    "\n",
    "print(dir_path_list)\n",
    "        "
   ]
  },
  {
   "cell_type": "code",
   "execution_count": 6,
   "metadata": {},
   "outputs": [],
   "source": [
    "def cleanJpg(path):\n",
    "    for i in os.listdir(path):\n",
    "        if (i.find('jpg.td')!=-1\n",
    "        or i.find('jpg')==-1):\n",
    "            os.remove(path+'\\\\'+i)\n",
    "\n",
    "cleanJpg(m_path+dir_path_list[7])\n"
   ]
  },
  {
   "cell_type": "code",
   "execution_count": 7,
   "metadata": {},
   "outputs": [],
   "source": [
    "for i in dir_path_list:\n",
    "    if int(i)<170:\n",
    "        cleanJpg(m_path+i)"
   ]
  },
  {
   "cell_type": "code",
   "execution_count": null,
   "metadata": {},
   "outputs": [],
   "source": []
  }
 ],
 "metadata": {
  "kernelspec": {
   "display_name": "Python 3",
   "language": "python",
   "name": "python3"
  },
  "language_info": {
   "codemirror_mode": {
    "name": "ipython",
    "version": 3
   },
   "file_extension": ".py",
   "mimetype": "text/x-python",
   "name": "python",
   "nbconvert_exporter": "python",
   "pygments_lexer": "ipython3",
   "version": "3.6.5"
  }
 },
 "nbformat": 4,
 "nbformat_minor": 2
}
